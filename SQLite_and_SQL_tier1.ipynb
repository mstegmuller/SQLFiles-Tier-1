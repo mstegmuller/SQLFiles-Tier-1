{
 "cells": [
  {
   "cell_type": "code",
   "execution_count": 5,
   "id": "9efe9273",
   "metadata": {},
   "outputs": [
    {
     "name": "stdout",
     "output_type": "stream",
     "text": [
      "Requirement already satisfied: psycopg2-binary in c:\\users\\esteg\\anaconda3\\envs\\pythondata\\lib\\site-packages (2.9.2)\n",
      "Collecting snowflake-connector-python\n",
      "  Downloading snowflake_connector_python-3.0.4-cp37-cp37m-win_amd64.whl (10.7 MB)\n",
      "Collecting pyjwt<3.0.0\n"
     ]
    },
    {
     "name": "stderr",
     "output_type": "stream",
     "text": [
      "ERROR: pip's dependency resolver does not currently take into account all the packages that are installed. This behaviour is the source of the following dependency conflicts.\n",
      "flake8 3.9.0 requires pycodestyle<2.8.0,>=2.7.0, but you have pycodestyle 2.6.0 which is incompatible.\n",
      "flake8 3.9.0 requires pyflakes<2.4.0,>=2.3.0, but you have pyflakes 2.2.0 which is incompatible.\n"
     ]
    },
    {
     "name": "stdout",
     "output_type": "stream",
     "text": [
      "  Downloading PyJWT-2.8.0-py3-none-any.whl (22 kB)\n",
      "Collecting sortedcontainers>=2.4.0\n",
      "  Downloading sortedcontainers-2.4.0-py2.py3-none-any.whl (29 kB)\n",
      "Collecting typing-extensions<5,>=4.3\n",
      "  Downloading typing_extensions-4.7.1-py3-none-any.whl (33 kB)\n",
      "Requirement already satisfied: asn1crypto<2.0.0,>0.24.0 in c:\\users\\esteg\\anaconda3\\envs\\pythondata\\lib\\site-packages (from snowflake-connector-python) (1.4.0)\n",
      "Requirement already satisfied: pytz in c:\\users\\esteg\\anaconda3\\envs\\pythondata\\lib\\site-packages (from snowflake-connector-python) (2021.1)\n",
      "Requirement already satisfied: requests<3.0.0 in c:\\users\\esteg\\anaconda3\\envs\\pythondata\\lib\\site-packages (from snowflake-connector-python) (2.25.1)\n",
      "Requirement already satisfied: urllib3<1.27,>=1.21.1 in c:\\users\\esteg\\anaconda3\\envs\\pythondata\\lib\\site-packages (from snowflake-connector-python) (1.26.4)\n",
      "Requirement already satisfied: certifi>=2017.4.17 in c:\\users\\esteg\\anaconda3\\envs\\pythondata\\lib\\site-packages (from snowflake-connector-python) (2020.12.5)\n",
      "Requirement already satisfied: cffi<2.0.0,>=1.9 in c:\\users\\esteg\\anaconda3\\envs\\pythondata\\lib\\site-packages (from snowflake-connector-python) (1.14.5)\n",
      "Requirement already satisfied: importlib-metadata in c:\\users\\esteg\\anaconda3\\envs\\pythondata\\lib\\site-packages (from snowflake-connector-python) (4.11.1)\n",
      "Collecting oscrypto<2.0.0\n",
      "  Downloading oscrypto-1.3.0-py2.py3-none-any.whl (194 kB)\n",
      "Requirement already satisfied: idna<4,>=2.5 in c:\\users\\esteg\\anaconda3\\envs\\pythondata\\lib\\site-packages (from snowflake-connector-python) (2.10)\n",
      "Collecting pycryptodomex!=3.5.0,<4.0.0,>=3.2\n",
      "  Downloading pycryptodomex-3.20.0-cp35-abi3-win_amd64.whl (1.8 MB)\n",
      "Collecting charset-normalizer<4,>=2\n",
      "  Downloading charset_normalizer-3.3.2-cp37-cp37m-win_amd64.whl (98 kB)\n",
      "Requirement already satisfied: packaging in c:\\users\\esteg\\anaconda3\\envs\\pythondata\\lib\\site-packages (from snowflake-connector-python) (20.9)\n",
      "Requirement already satisfied: pyOpenSSL<24.0.0,>=16.2.0 in c:\\users\\esteg\\anaconda3\\envs\\pythondata\\lib\\site-packages (from snowflake-connector-python) (20.0.1)\n",
      "Requirement already satisfied: cryptography<41.0.0,>=3.1.0 in c:\\users\\esteg\\anaconda3\\envs\\pythondata\\lib\\site-packages (from snowflake-connector-python) (3.4.7)\n",
      "Collecting filelock<4,>=3.5\n",
      "  Downloading filelock-3.12.2-py3-none-any.whl (10 kB)\n",
      "Requirement already satisfied: pycparser in c:\\users\\esteg\\anaconda3\\envs\\pythondata\\lib\\site-packages (from cffi<2.0.0,>=1.9->snowflake-connector-python) (2.20)\n",
      "Collecting asn1crypto<2.0.0,>0.24.0\n",
      "  Downloading asn1crypto-1.5.1-py2.py3-none-any.whl (105 kB)\n",
      "Requirement already satisfied: six>=1.5.2 in c:\\users\\esteg\\anaconda3\\envs\\pythondata\\lib\\site-packages (from pyOpenSSL<24.0.0,>=16.2.0->snowflake-connector-python) (1.15.0)\n",
      "Requirement already satisfied: chardet<5,>=3.0.2 in c:\\users\\esteg\\anaconda3\\envs\\pythondata\\lib\\site-packages (from requests<3.0.0->snowflake-connector-python) (4.0.0)\n",
      "Requirement already satisfied: zipp>=0.5 in c:\\users\\esteg\\anaconda3\\envs\\pythondata\\lib\\site-packages (from importlib-metadata->snowflake-connector-python) (3.4.1)\n",
      "Requirement already satisfied: pyparsing>=2.0.2 in c:\\users\\esteg\\anaconda3\\envs\\pythondata\\lib\\site-packages (from packaging->snowflake-connector-python) (2.4.7)\n",
      "Installing collected packages: typing-extensions, asn1crypto, sortedcontainers, pyjwt, pycryptodomex, oscrypto, filelock, charset-normalizer, snowflake-connector-python\n",
      "  Attempting uninstall: typing-extensions\n",
      "    Found existing installation: typing-extensions 4.1.1\n",
      "    Uninstalling typing-extensions-4.1.1:\n",
      "      Successfully uninstalled typing-extensions-4.1.1\n",
      "  Attempting uninstall: asn1crypto\n",
      "    Found existing installation: asn1crypto 1.4.0\n",
      "    Uninstalling asn1crypto-1.4.0:\n",
      "      Successfully uninstalled asn1crypto-1.4.0\n",
      "  Attempting uninstall: sortedcontainers\n",
      "    Found existing installation: sortedcontainers 2.3.0\n",
      "    Uninstalling sortedcontainers-2.3.0:\n",
      "      Successfully uninstalled sortedcontainers-2.3.0\n",
      "  Attempting uninstall: filelock\n",
      "    Found existing installation: filelock 3.0.12\n",
      "    Uninstalling filelock-3.0.12:\n",
      "      Successfully uninstalled filelock-3.0.12\n",
      "Successfully installed asn1crypto-1.5.1 charset-normalizer-3.3.2 filelock-3.12.2 oscrypto-1.3.0 pycryptodomex-3.20.0 pyjwt-2.8.0 snowflake-connector-python-3.0.4 sortedcontainers-2.4.0 typing-extensions-4.7.1\n",
      "Collecting mysql-connector-python\n",
      "  Downloading mysql_connector_python-8.0.33-cp37-cp37m-win_amd64.whl (9.6 MB)\n",
      "Requirement already satisfied: protobuf<=3.20.3,>=3.11.0 in c:\\users\\esteg\\anaconda3\\envs\\pythondata\\lib\\site-packages (from mysql-connector-python) (3.19.4)\n",
      "Installing collected packages: mysql-connector-python\n",
      "Successfully installed mysql-connector-python-8.0.33\n"
     ]
    }
   ],
   "source": [
    "! pip install psycopg2-binary\n",
    "! pip install snowflake-connector-python\n",
    "! pip install mysql-connector-python\n"
   ]
  },
  {
   "cell_type": "code",
   "execution_count": 12,
   "id": "c7502060",
   "metadata": {},
   "outputs": [],
   "source": [
    "import sqlite3\n",
    "conn = sqlite3.connect('sqlite_db_pythonsqlite.db')"
   ]
  },
  {
   "cell_type": "code",
   "execution_count": 13,
   "id": "a4f2888f",
   "metadata": {},
   "outputs": [],
   "source": [
    "c = conn.cursor()"
   ]
  },
  {
   "cell_type": "code",
   "execution_count": 14,
   "id": "1db5ac28",
   "metadata": {},
   "outputs": [
    {
     "name": "stdout",
     "output_type": "stream",
     "text": [
      "(0, 'GUEST', 'GUEST', 'GUEST', 0, '(000) 000-0000', '', '2012-07-01 00:00:00')\n",
      "(1, 'Smith', 'Darren', '8 Bloomsbury Close, Boston', 4321, '555-555-5555', '', '2012-07-02 12:02:05')\n",
      "(2, 'Smith', 'Tracy', '8 Bloomsbury Close, New York', 4321, '555-555-5555', '', '2012-07-02 12:08:23')\n",
      "(3, 'Rownam', 'Tim', '23 Highway Way, Boston', 23423, '(844) 693-0723', '', '2012-07-03 09:32:15')\n",
      "(4, 'Joplette', 'Janice', '20 Crossing Road, New York', 234, '(833) 942-4710', '1', '2012-07-03 10:25:05')\n",
      "(5, 'Butters', 'Gerald', '1065 Huntingdon Avenue, Boston', 56754, '(844) 078-4130', '1', '2012-07-09 10:44:09')\n",
      "(6, 'Tracy', 'Burton', '3 Tunisia Drive, Boston', 45678, '(822) 354-9973', '', '2012-07-15 08:52:55')\n",
      "(7, 'Dare', 'Nancy', '6 Hunting Lodge Way, Boston', 10383, '(833) 776-4001', '4', '2012-07-25 08:59:12')\n",
      "(8, 'Boothe', 'Tim', '3 Bloomsbury Close, Reading, 00234', 234, '(811) 433-2547', '3', '2012-07-25 16:02:35')\n",
      "(9, 'Stibbons', 'Ponder', '5 Dragons Way, Winchester', 87630, '(833) 160-3900', '6', '2012-07-25 17:09:05')\n",
      "(10, 'Owen', 'Charles', '52 Cheshire Grove, Winchester, 28563', 28563, '(855) 542-5251', '1', '2012-08-03 19:42:37')\n",
      "(11, 'Jones', 'David', '976 Gnats Close, Reading', 33862, '(844) 536-8036', '4', '2012-08-06 16:32:55')\n",
      "(12, 'Baker', 'Anne', '55 Powdery Street, Boston', 80743, '844-076-5141', '9', '2012-08-10 14:23:22')\n",
      "(13, 'Farrell', 'Jemima', '103 Firth Avenue, North Reading', 57392, '(855) 016-0163', '', '2012-08-10 14:28:01')\n",
      "(14, 'Smith', 'Jack', '252 Binkington Way, Boston', 69302, '(822) 163-3254', '1', '2012-08-10 16:22:05')\n",
      "(15, 'Bader', 'Florence', '264 Ursula Drive, Westford', 84923, '(833) 499-3527', '9', '2012-08-10 17:52:03')\n",
      "(16, 'Baker', 'Timothy', '329 James Street, Reading', 58393, '833-941-0824', '13', '2012-08-15 10:34:25')\n",
      "(17, 'Pinker', 'David', '5 Impreza Road, Boston', 65332, '811 409-6734', '13', '2012-08-16 11:32:47')\n",
      "(20, 'Genting', 'Matthew', '4 Nunnington Place, Wingfield, Boston', 52365, '(811) 972-1377', '5', '2012-08-19 14:55:55')\n",
      "(21, 'Mackenzie', 'Anna', '64 Perkington Lane, Reading', 64577, '(822) 661-2898', '1', '2012-08-26 09:32:05')\n",
      "(22, 'Coplin', 'Joan', '85 Bard Street, Bloomington, Boston', 43533, '(822) 499-2232', '16', '2012-08-29 08:32:41')\n",
      "(24, 'Sarwin', 'Ramnaresh', '12 Bullington Lane, Boston', 65464, '(822) 413-1470', '15', '2012-09-01 08:44:42')\n",
      "(26, 'Jones', 'Douglas', '976 Gnats Close, Reading', 11986, '844 536-8036', '11', '2012-09-02 18:43:05')\n",
      "(27, 'Rumney', 'Henrietta', '3 Burkington Plaza, Boston', 78533, '(822) 989-8876', '20', '2012-09-05 08:42:35')\n",
      "(28, 'Farrell', 'David', '437 Granite Farm Road, Westford', 43532, '(855) 755-9876', '', '2012-09-15 08:22:05')\n",
      "(29, 'Worthington-Smyth', 'Henry', '55 Jagbi Way, North Reading', 97676, '(855) 894-3758', '2', '2012-09-17 12:27:15')\n",
      "(30, 'Purview', 'Millicent', '641 Drudgery Close, Burnington, Boston', 34232, '(855) 941-9786', '2', '2012-09-18 19:04:01')\n",
      "(33, 'Tupperware', 'Hyacinth', '33 Cheerful Plaza, Drake Road, Westford', 68666, '(822) 665-5327', '', '2012-09-18 19:32:05')\n",
      "(35, 'Hunt', 'John', '5 Bullington Lane, Boston', 54333, '(899) 720-6978', '30', '2012-09-19 11:32:45')\n",
      "(36, 'Crumpet', 'Erica', 'Crimson Road, North Reading', 75655, '(811) 732-4816', '2', '2012-09-22 08:36:38')\n",
      "(37, 'Smith', 'Darren', '3 Funktown, Denzington, Boston', 66796, '(822) 577-3541', '', '2012-09-26 18:08:45')\n"
     ]
    }
   ],
   "source": [
    "for row in c.execute(\"SELECT * FROM Members\"):\n",
    "    print(row)"
   ]
  },
  {
   "cell_type": "code",
   "execution_count": 15,
   "id": "6ac69a75",
   "metadata": {},
   "outputs": [
    {
     "name": "stdout",
     "output_type": "stream",
     "text": [
      "2.6.0\n",
      "2. Query all tasks\n",
      "(0, 'Tennis Court 1', 5, 25, 10000, 200)\n",
      "(1, 'Tennis Court 2', 5, 25, 8000, 200)\n",
      "(2, 'Badminton Court', 0, 15.5, 4000, 50)\n",
      "(3, 'Table Tennis', 0, 5, 320, 10)\n",
      "(4, 'Massage Room 1', 9.9, 80, 4000, 3000)\n",
      "(5, 'Massage Room 2', 9.9, 80, 4000, 3000)\n",
      "(6, 'Squash Court', 3.5, 17.5, 5000, 80)\n",
      "(7, 'Snooker Table', 0, 5, 450, 15)\n",
      "(8, 'Pool Table', 0, 5, 400, 15)\n"
     ]
    }
   ],
   "source": [
    "import sqlite3\n",
    "from sqlite3 import Error\n",
    "\n",
    " \n",
    "def create_connection(db_file):\n",
    "    \"\"\" create a database connection to the SQLite database\n",
    "        specified by the db_file\n",
    "    :param db_file: database file\n",
    "    :return: Connection object or None\n",
    "    \"\"\"\n",
    "    conn = None\n",
    "    try:\n",
    "        conn = sqlite3.connect(db_file)\n",
    "        print(sqlite3.version)\n",
    "    except Error as e:\n",
    "        print(e)\n",
    " \n",
    "    return conn\n",
    "\n",
    " \n",
    "def select_all_tasks(conn):\n",
    "    \"\"\"\n",
    "    Query all rows in the tasks table\n",
    "    :param conn: the Connection object\n",
    "    :return:\n",
    "    \"\"\"\n",
    "    cur = conn.cursor()\n",
    "    \n",
    "    query1 = \"\"\"\n",
    "        SELECT *\n",
    "        FROM FACILITIES\n",
    "        \"\"\"\n",
    "    cur.execute(query1)\n",
    " \n",
    "    rows = cur.fetchall()\n",
    " \n",
    "    for row in rows:\n",
    "        print(row)\n",
    "\n",
    "\n",
    "def main():\n",
    "    database = \"sqlite_db_pythonsqlite.db\"\n",
    " \n",
    "    # create a database connection\n",
    "    conn = create_connection(database)\n",
    "    with conn: \n",
    "        print(\"2. Query all tasks\")\n",
    "        select_all_tasks(conn)\n",
    " \n",
    " \n",
    "if __name__ == '__main__':\n",
    "    main()"
   ]
  },
  {
   "cell_type": "code",
   "execution_count": 16,
   "id": "5994513a",
   "metadata": {},
   "outputs": [],
   "source": [
    "q10_query = \"\"\"SELECT sub.name, SUM( sub.revenue ) AS revenue\n",
    "FROM (\n",
    "SELECT b.facid, b.memid, f.name, f.guestcost, f.membercost, COUNT( b.facid ) AS facid_count,\n",
    "CASE\n",
    "WHEN b.memid =0\n",
    "THEN COUNT( b.facid ) * f.guestcost\n",
    "ELSE COUNT( b.facid ) * f.membercost\n",
    "END AS 'revenue'\n",
    "FROM Bookings AS b\n",
    "LEFT JOIN Facilities AS f ON b.facid = f.facid\n",
    "GROUP BY b.facid, b.memid\n",
    ") AS sub\n",
    "GROUP BY sub.facid\n",
    "HAVING revenue <=1000\"\"\""
   ]
  },
  {
   "cell_type": "code",
   "execution_count": 17,
   "id": "985609a5",
   "metadata": {},
   "outputs": [
    {
     "data": {
      "text/plain": [
       "[('Badminton Court', 604.5),\n",
       " ('Table Tennis', 90),\n",
       " ('Snooker Table', 115),\n",
       " ('Pool Table', 265)]"
      ]
     },
     "execution_count": 17,
     "metadata": {},
     "output_type": "execute_result"
    }
   ],
   "source": [
    "[row for row in c.execute(q10_query)]"
   ]
  },
  {
   "cell_type": "code",
   "execution_count": 18,
   "id": "1252f5e5",
   "metadata": {},
   "outputs": [],
   "source": [
    "q11_query = \"\"\"SELECT m.surname, m.firstname, m.recommendedby AS recomender_id, r.surname, r.firstname\n",
    "FROM Members AS m\n",
    "LEFT JOIN Members AS r ON m.recommendedby = r.memid\n",
    "WHERE m.recommendedby !=0\n",
    "ORDER BY r.surname, r.firstname\n",
    "\"\"\""
   ]
  },
  {
   "cell_type": "code",
   "execution_count": 19,
   "id": "9853c870",
   "metadata": {},
   "outputs": [
    {
     "name": "stdout",
     "output_type": "stream",
     "text": [
      "('Sarwin', 'Ramnaresh', '15', 'Bader', 'Florence')\n",
      "('Coplin', 'Joan', '16', 'Baker', 'Timothy')\n",
      "('Genting', 'Matthew', '5', 'Butters', 'Gerald')\n",
      "('Baker', 'Timothy', '13', 'Farrell', 'Jemima')\n",
      "('Pinker', 'David', '13', 'Farrell', 'Jemima')\n",
      "('Rumney', 'Henrietta', '20', 'Genting', 'Matthew')\n",
      "('Jones', 'Douglas', '11', 'Jones', 'David')\n",
      "('Dare', 'Nancy', '4', 'Joplette', 'Janice')\n",
      "('Jones', 'David', '4', 'Joplette', 'Janice')\n",
      "('Hunt', 'John', '30', 'Purview', 'Millicent')\n",
      "('Boothe', 'Tim', '3', 'Rownam', 'Tim')\n",
      "('Joplette', 'Janice', '1', 'Smith', 'Darren')\n",
      "('Butters', 'Gerald', '1', 'Smith', 'Darren')\n",
      "('Owen', 'Charles', '1', 'Smith', 'Darren')\n",
      "('Smith', 'Jack', '1', 'Smith', 'Darren')\n",
      "('Mackenzie', 'Anna', '1', 'Smith', 'Darren')\n",
      "('Worthington-Smyth', 'Henry', '2', 'Smith', 'Tracy')\n",
      "('Purview', 'Millicent', '2', 'Smith', 'Tracy')\n",
      "('Crumpet', 'Erica', '2', 'Smith', 'Tracy')\n",
      "('Baker', 'Anne', '9', 'Stibbons', 'Ponder')\n",
      "('Bader', 'Florence', '9', 'Stibbons', 'Ponder')\n",
      "('Stibbons', 'Ponder', '6', 'Tracy', 'Burton')\n"
     ]
    }
   ],
   "source": [
    "for row in c.execute(q11_query):\n",
    "    if row[3] != None:\n",
    "        print(row)"
   ]
  },
  {
   "cell_type": "code",
   "execution_count": 20,
   "id": "e6d5ad84",
   "metadata": {},
   "outputs": [],
   "source": [
    "q12_query = \"\"\"SELECT b.facid, COUNT( b.memid ) AS mem_usage, f.name\n",
    "FROM (\n",
    "SELECT facid, memid\n",
    "FROM Bookings\n",
    "WHERE memid !=0\n",
    ") AS b\n",
    "LEFT JOIN Facilities AS f ON b.facid = f.facid\n",
    "GROUP BY b.facid\"\"\""
   ]
  },
  {
   "cell_type": "code",
   "execution_count": 21,
   "id": "c6944e02",
   "metadata": {},
   "outputs": [
    {
     "data": {
      "text/plain": [
       "[(0, 308, 'Tennis Court 1'),\n",
       " (1, 276, 'Tennis Court 2'),\n",
       " (2, 344, 'Badminton Court'),\n",
       " (3, 385, 'Table Tennis'),\n",
       " (4, 421, 'Massage Room 1'),\n",
       " (5, 27, 'Massage Room 2'),\n",
       " (6, 195, 'Squash Court'),\n",
       " (7, 421, 'Snooker Table'),\n",
       " (8, 783, 'Pool Table')]"
      ]
     },
     "execution_count": 21,
     "metadata": {},
     "output_type": "execute_result"
    }
   ],
   "source": [
    "[row for row in c.execute(q12_query)]"
   ]
  },
  {
   "cell_type": "code",
   "execution_count": 22,
   "id": "1839db23",
   "metadata": {},
   "outputs": [],
   "source": [
    "q13_query =\"\"\"SELECT b.months, COUNT( b.memid ) AS mem_usage\n",
    "FROM (\n",
    "SELECT strftime('%m', starttime ) AS months, memid\n",
    "FROM Bookings\n",
    "WHERE memid !=0\n",
    ") AS b\n",
    "GROUP BY b.months\"\"\""
   ]
  },
  {
   "cell_type": "code",
   "execution_count": 23,
   "id": "6ac64dc1",
   "metadata": {},
   "outputs": [
    {
     "data": {
      "text/plain": [
       "[('07', 480), ('08', 1168), ('09', 1512)]"
      ]
     },
     "execution_count": 23,
     "metadata": {},
     "output_type": "execute_result"
    }
   ],
   "source": [
    "[row for row in c.execute(q13_query)]"
   ]
  },
  {
   "cell_type": "code",
   "execution_count": null,
   "id": "bfeee44e",
   "metadata": {},
   "outputs": [],
   "source": []
  }
 ],
 "metadata": {
  "kernelspec": {
   "display_name": "PythonData",
   "language": "python",
   "name": "pythondata"
  },
  "language_info": {
   "codemirror_mode": {
    "name": "ipython",
    "version": 3
   },
   "file_extension": ".py",
   "mimetype": "text/x-python",
   "name": "python",
   "nbconvert_exporter": "python",
   "pygments_lexer": "ipython3",
   "version": "3.7.10"
  }
 },
 "nbformat": 4,
 "nbformat_minor": 5
}
